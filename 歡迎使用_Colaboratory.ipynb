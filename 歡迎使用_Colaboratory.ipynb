{
  "cells": [
    {
      "cell_type": "code",
      "source": [
        "#定義三痹湯的資料\n",
        "prescription = {\n",
        "    '名稱': '三痹湯',\n",
        "    '出典': '婦人良方',\n",
        "    '處方': {\n",
        "        '續斷':1.5, # 公克\n",
        "        '杜仲':1.5, # 公克\n",
        "        '防風':1.5, # 公克\n",
        "        '肉桂':1.5, # 公克\n",
        "        '細辛':1.5, # 公克\n",
        "        '人參':1.5, # 公克\n",
        "        '茯苓':1.5, # 公克\n",
        "        '當歸':1.5, # 公克\n",
        "        '白芍':1.5, # 公克\n",
        "        '黃耆':1.5, # 公克\n",
        "        '牛膝':1.5, # 公克\n",
        "        '甘草':1.5, # 公克\n",
        "        '秦艽':1.5, # 公克\n",
        "        '生地黃':1.5, # 公克\n",
        "        '秦艽':1.5, # 公克\n",
        "        '川芎':1.5, # 公克\n",
        "        '獨活':1.5, # 公克\n",
        "        '生薑':1.5, # 公克\n",
        "        '大棗':1.5, # 公克\n",
        "\n",
        "    },\n",
        "    '效能':'補氣血、祛風濕、止痹痛',\n",
        "    '適應症':['氣血凝滯、手足拘攣、風寒濕痹']\n",
        "}\n",
        "# 使用 while 迴圈提供查詢服務\n",
        "while True:\n",
        "    query = input(\"\\n您想查詢什麼？(藥方名稱/出典/處方/效能/適應症/退出查詢)：\")\n",
        "\n",
        "    if query == \"藥方名稱\":\n",
        "        print(f\"{prescription['名稱']}\")\n",
        "    elif query == \"出典\":\n",
        "        print(f\"{prescription['名稱']}的出典為:{prescription['出典']}\")\n",
        "    elif query == \"適應症\":\n",
        "        print(f\"{prescription['名稱']}的適應症有:\")\n",
        "        for symptom in prescription['適應症']:\n",
        "            print(symptom)\n",
        "    elif query == \"處方\":\n",
        "        total_weight = sum(prescription['處方'].values())\n",
        "        print(f\"{prescription['名稱']}的處方為:\")\n",
        "        for medicine, weight in prescription['處方'].items():\n",
        "            print(f\"{medicine}：{weight}公克\")\n",
        "        print(f\"總克數為：{total_weight}公克\")\n",
        "    elif query == \"效能\":\n",
        "        print(f\"{prescription['名稱']}的效能是:{prescription['效能']}\")\n",
        "    elif query == \"退出查詢\":\n",
        "        print(\"感謝使用，再見！\")\n",
        "        break\n",
        "    else:\n",
        "        print(\"輸入無效，請重新輸入。\")\n",
        "\n"
      ],
      "metadata": {
        "id": "gWpR3aFrDe5q",
        "outputId": "586040c5-6221-459d-bd07-662c7e2fb709",
        "colab": {
          "base_uri": "https://localhost:8080/"
        }
      },
      "execution_count": null,
      "outputs": [
        {
          "output_type": "stream",
          "name": "stdout",
          "text": [
            "\n",
            "您想查詢什麼？(藥方名稱/出典/處方/效能/適應症/退出查詢)：三痹湯\n",
            "輸入無效，請重新輸入。\n",
            "\n",
            "您想查詢什麼？(藥方名稱/出典/處方/效能/適應症/退出查詢)：出典\n",
            "三痹湯的出典為:婦人良方\n"
          ]
        }
      ]
    }
  ],
  "metadata": {
    "colab": {
      "name": "歡迎使用 Colaboratory",
      "toc_visible": true,
      "provenance": []
    },
    "kernelspec": {
      "display_name": "Python 3",
      "name": "python3"
    }
  },
  "nbformat": 4,
  "nbformat_minor": 0
}